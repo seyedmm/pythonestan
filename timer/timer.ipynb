{
 "cells": [
  {
   "cell_type": "markdown",
   "metadata": {},
   "source": [
    "# timer project - pythonestan courses\r\n",
    ">By Seyedmahdi Moosavyan\r\n",
    "\r\n",
    ">omigo.ir/seyedmm"
   ]
  },
  {
   "cell_type": "markdown",
   "metadata": {},
   "source": [
    "### Imports"
   ]
  },
  {
   "cell_type": "code",
   "execution_count": 13,
   "metadata": {},
   "outputs": [],
   "source": [
    "from winsound import Beep\r\n",
    "from time import localtime, strftime, sleep"
   ]
  },
  {
   "cell_type": "markdown",
   "metadata": {},
   "source": [
    "### Variables"
   ]
  },
  {
   "cell_type": "code",
   "execution_count": 14,
   "metadata": {},
   "outputs": [],
   "source": [
    "alarm_time=input(\"What time does the alarm sound?(Enter it like 05:13 or 00:15 in 24-hour format):\")\r\n",
    "text = input(\"If your alarm has text, enter it:\")\r\n",
    "pattern = \"%H:%M\""
   ]
  },
  {
   "cell_type": "markdown",
   "metadata": {},
   "source": [
    "### Main loop (while)"
   ]
  },
  {
   "cell_type": "code",
   "execution_count": 15,
   "metadata": {},
   "outputs": [
    {
     "name": "stdout",
     "output_type": "stream",
     "text": [
      "گاندو\n",
      "Your alarm time has come. It is now 01:00\n"
     ]
    }
   ],
   "source": [
    "while True:\r\n",
    "    now = strftime(pattern, localtime())\r\n",
    "    if now==alarm_time:\r\n",
    "        print(text)\r\n",
    "        print(\"Your alarm time has come. It is now \"+alarm_time)\r\n",
    "        for i in range(3):\r\n",
    "            Beep(1000,500)\r\n",
    "        break\r\n",
    "    sleep(15)\r\n"
   ]
  }
 ],
 "metadata": {
  "kernelspec": {
   "display_name": "Python 3.9.2 64-bit",
   "name": "python392jvsc74a57bd012211334f9db4c618b52867bbbb34e3b38536e7b091d347b651427ec9191b13b"
  },
  "language_info": {
   "codemirror_mode": {
    "name": "ipython",
    "version": 3
   },
   "file_extension": ".py",
   "mimetype": "text/x-python",
   "name": "python",
   "nbconvert_exporter": "python",
   "pygments_lexer": "ipython3",
   "version": "3.9.2"
  },
  "metadata": {
   "interpreter": {
    "hash": "12211334f9db4c618b52867bbbb34e3b38536e7b091d347b651427ec9191b13b"
   }
  },
  "orig_nbformat": 2
 },
 "nbformat": 4,
 "nbformat_minor": 2
}
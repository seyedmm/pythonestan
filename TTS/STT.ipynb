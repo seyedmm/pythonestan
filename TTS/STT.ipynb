{
 "cells": [],
 "metadata": {
  "kernelspec": {
   "display_name": "Python 3.9.2 64-bit",
   "name": "python392jvsc74a57bd012211334f9db4c618b52867bbbb34e3b38536e7b091d347b651427ec9191b13b"
  },
  "language_info": {
   "name": "python",
   "version": ""
  },
  "metadata": {
   "interpreter": {
    "hash": "12211334f9db4c618b52867bbbb34e3b38536e7b091d347b651427ec9191b13b"
   }
  },
  "orig_nbformat": 2
 },
 "nbformat": 4,
 "nbformat_minor": 2
}
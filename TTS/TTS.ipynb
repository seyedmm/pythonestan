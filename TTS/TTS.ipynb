{
 "cells": [
  {
   "cell_type": "markdown",
   "metadata": {},
   "source": [
    "# TTS project - pythonestan courses\r\n",
    ">By [Seyedmahdi Moosavyan](https://omigo.ir/seyedmm)\r\n",
    "\r\n",
    ">[omigo.ir/seyedmm](https://omigo.ir/seyedmm)"
   ]
  }
 ],
 "metadata": {
  "kernelspec": {
   "display_name": "Python 3.9.2 64-bit",
   "name": "python392jvsc74a57bd012211334f9db4c618b52867bbbb34e3b38536e7b091d347b651427ec9191b13b"
  },
  "language_info": {
   "name": "python",
   "version": ""
  },
  "metadata": {
   "interpreter": {
    "hash": "12211334f9db4c618b52867bbbb34e3b38536e7b091d347b651427ec9191b13b"
   }
  },
  "orig_nbformat": 2
 },
 "nbformat": 4,
 "nbformat_minor": 2
}